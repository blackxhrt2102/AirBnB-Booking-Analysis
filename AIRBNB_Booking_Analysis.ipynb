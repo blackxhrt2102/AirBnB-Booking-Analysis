{
  "nbformat": 4,
  "nbformat_minor": 0,
  "metadata": {
    "colab": {
      "name": "AIRBNB Booking Analysis.ipynb",
      "provenance": [],
      "collapsed_sections": [],
      "authorship_tag": "ABX9TyOwFuwDgbupuyhh9h2bZxih",
      "include_colab_link": true
    },
    "kernelspec": {
      "name": "python3",
      "display_name": "Python 3"
    },
    "language_info": {
      "name": "python"
    }
  },
  "cells": [
    {
      "cell_type": "markdown",
      "metadata": {
        "id": "view-in-github",
        "colab_type": "text"
      },
      "source": [
        "<a href=\"https://colab.research.google.com/github/blackxhrt2102/AirBnB-Booking-Analysis/blob/main/AIRBNB_Booking_Analysis.ipynb\" target=\"_parent\"><img src=\"https://colab.research.google.com/assets/colab-badge.svg\" alt=\"Open In Colab\"/></a>"
      ]
    },
    {
      "cell_type": "markdown",
      "source": [
        "# **Airbnb EDA (Exploratory Data Analysis) Capstone Project**"
      ],
      "metadata": {
        "id": "P-i9IJQq63ba"
      }
    },
    {
      "cell_type": "markdown",
      "source": [
        "Since 2008, guests and hosts have used Airbnb to expand on traveling possibilities and present a more unique, personalized way of experiencing the world. Today, Airbnb became one of a kind service that is used and recognized by the whole world. Data analysis on millions of listings provided through Airbnb is a crucial factor for the company. These millions of listings generate a lot of data - data that can be analyzed and used for security, business decisions, understanding of customers' and providers' (hosts) behavior and performance on the platform, guiding marketing initiatives, implementation of innovative additional services and much more.\n",
        "This dataset has around 49,000 observations in it with 16 columns and it is a mix between categorical and numeric values."
      ],
      "metadata": {
        "id": "4e0IP5Uj6_t6"
      }
    },
    {
      "cell_type": "markdown",
      "source": [
        "\n",
        "\n",
        "---------------------------------------------------------------------------------\n",
        "\n",
        "**Explore and analyze the data to discover key understandings (not limited to these) such as :**\n",
        "* **What can we learn about different hosts and areas?**\n",
        "* **What can we learn from predictions? (ex: locations, prices, reviews, etc)**\n",
        "* **Which hosts are the busiest and why?**\n",
        "* **Is there any noticeable difference of traffic among different areas and what could be the reason for it?**\n",
        "--------------------------------------------------------------------------------"
      ],
      "metadata": {
        "id": "_-0KsG517Er2"
      }
    },
    {
      "cell_type": "markdown",
      "source": [
        "# **Business Model of Airbnb:**\n",
        " **Airbnb is a community-based, two-sided online platform that facilitates the process of booking private living spaces for travelers. On the one side it enables owners to list their space and earn rental money. On the other side it provides travelers easy access to renting private homes. With over 1,500,000 listings in 34,000 cities and 190 countries, its wide coverage enables travelers to rent private homes all over the world. Personal profiles as well as a rating and reviewing system provide information about the host and what is on offer. Vice versa, hosts can choose on their own who to rent out their space to.**\n",
        "\n",
        " **Airbnb receives commissions from two sources upon every booking, namely from the hosts and guests. For every booking Airbnb charges the guest 6-12% of the booking fee. Moreover Airbnb charges the host 3% for every successful transaction.**"
      ],
      "metadata": {
        "id": "K4H8gPmF7Lj4"
      }
    },
    {
      "cell_type": "markdown",
      "source": [
        "# **CODING AND ANALYSIS PART:**"
      ],
      "metadata": {
        "id": "_DjJ0iBX7SzE"
      }
    },
    {
      "cell_type": "code",
      "execution_count": null,
      "metadata": {
        "id": "tV9Ykoua6sfK"
      },
      "outputs": [],
      "source": [
        "# Importing modules\n",
        "\n",
        "import numpy as np\n",
        "import pandas as pd\n",
        "import matplotlib.pyplot as plt\n",
        "import seaborn as sns\n",
        "\n",
        "\n",
        "sns.set_style('darkgrid')\n",
        "%matplotlib inline"
      ]
    },
    {
      "cell_type": "code",
      "source": [
        "# Mounting google drive\n",
        "\n",
        "from google.colab import drive\n",
        "drive.mount('/content/drive')"
      ],
      "metadata": {
        "id": "HIAH2ZB37ZPq"
      },
      "execution_count": null,
      "outputs": []
    },
    {
      "cell_type": "code",
      "source": [
        "# Loading the dataset\n",
        "\n",
        "df=pd.read_csv('/content/drive/MyDrive/Colab Notebooks/AlmaBetter/EDA Capstone Project/Airbnb NYC 2019.csv')"
      ],
      "metadata": {
        "id": "FQnRYNpB7ZMI"
      },
      "execution_count": null,
      "outputs": []
    },
    {
      "cell_type": "markdown",
      "source": [
        "# Analysing the Data"
      ],
      "metadata": {
        "id": "PXtMDLuJ7g7H"
      }
    },
    {
      "cell_type": "code",
      "source": [
        "# Printing the first 5 rows\n",
        "\n",
        "df.head()"
      ],
      "metadata": {
        "id": "B9T6lvi07ZJO"
      },
      "execution_count": null,
      "outputs": []
    },
    {
      "cell_type": "code",
      "source": [
        "# Printing the last 5 rows\n",
        "\n",
        "df.tail()"
      ],
      "metadata": {
        "id": "jF4Uog0r7ZF3"
      },
      "execution_count": null,
      "outputs": []
    },
    {
      "cell_type": "code",
      "source": [
        "# Checking the shape of the dataset\n",
        "\n",
        "df.shape"
      ],
      "metadata": {
        "id": "jgAOYH5W7Y6L"
      },
      "execution_count": null,
      "outputs": []
    },
    {
      "cell_type": "code",
      "source": [
        "# Checking the basic information of the dataset\n",
        "\n",
        "df.info()"
      ],
      "metadata": {
        "id": "oR-FE1m07Y2g"
      },
      "execution_count": null,
      "outputs": []
    },
    {
      "cell_type": "code",
      "source": [
        "# Checking the unique values of the host id column\n",
        "\n",
        "df['host_id'].nunique()"
      ],
      "metadata": {
        "id": "1uiqUOaQ7r1O"
      },
      "execution_count": null,
      "outputs": []
    },
    {
      "cell_type": "code",
      "source": [
        "# Checking the unique values of the neighbourhood group\n",
        "\n",
        "df['neighbourhood_group'].unique()"
      ],
      "metadata": {
        "id": "F3FL9nRJ7rxy"
      },
      "execution_count": null,
      "outputs": []
    },
    {
      "cell_type": "markdown",
      "source": [
        "**Information provided by each column:**\n",
        "\n",
        "\n",
        "*   **id:** It gives a unique number for each observation.\n",
        "*   **name:** Basic description of the provided Airbnb.\n",
        "\n",
        "*   **host_id:** This gives us the id of the host who owns the Airbnb.\n",
        "*   **host_name:** This gives us the name of the host who owns the Airbnb.\n",
        "*   **neighbourhood_group:** The 5 boroughs(a town or district which is an administrative unit) of the New York City.\n",
        "*   **neighbourhood:** Towns/Cities present in the 5 boroughs.\n",
        "*   **latitude:** Latitude of the Airbnb.\n",
        "*   **longitude:** Longitude of the Airbnb.\n",
        "*   **room_type:** Different room types available for the Airbnb booking.\n",
        " 1.   Entire Home/Apartment\n",
        " 2.   Private Room\n",
        " 3.   Shared Room\n",
        "*   **price:** Price of the Airbnb for one night.\n",
        "*   **minimum_nights:** Number of minimun nights spent by a person in the Airbnb.\n",
        "*   **number_of_reviews:** Number of reviews received by the Airbnb.\n",
        "*   **last_review:** Date of the last review given by the user.\n",
        "*   **reviews_per_month:** Mean number of reviews received by the Airbnb per month.\n",
        "*   **calculated_host_listings_count:** Count of the list of hosts.\n",
        "*   **availability_365:** Availability of the Airbnb out of 365 days.\n"
      ],
      "metadata": {
        "id": "3gX6fEhY71Tt"
      }
    },
    {
      "cell_type": "markdown",
      "source": [
        "### **Data Preprocessing**"
      ],
      "metadata": {
        "id": "Dc3KKXU6773U"
      }
    },
    {
      "cell_type": "code",
      "source": [
        "# Dropping the columns that are not required\n",
        "\n",
        "df.drop(columns=['name','host_name','latitude','longitude','last_review','calculated_host_listings_count'], inplace = True)"
      ],
      "metadata": {
        "id": "PI6eOi5j7ru6"
      },
      "execution_count": null,
      "outputs": []
    },
    {
      "cell_type": "markdown",
      "source": [
        "If there are Nan values in the reviews per month column that means those Airbnbs have not received the reviews and thus those Nan values can be replaced with 0. "
      ],
      "metadata": {
        "id": "B52Fs8BU8Da2"
      }
    },
    {
      "cell_type": "code",
      "source": [
        "# Replacing the null values of reviews per month column with 0\n",
        "\n",
        "df[['reviews_per_month']] = df[['reviews_per_month']].fillna(0)"
      ],
      "metadata": {
        "id": "-zHirfs38DH9"
      },
      "execution_count": null,
      "outputs": []
    },
    {
      "cell_type": "markdown",
      "source": [
        "The price of any Airbnb can not be equal to 0, so replacing the 0 priced Airbnbs with the median of the price column"
      ],
      "metadata": {
        "id": "Uzgl5ULf8I_L"
      }
    },
    {
      "cell_type": "code",
      "source": [
        "# Replacing the 0 priced Airbnbs with the median of the price column\n",
        "\n",
        "df['price'] = df['price'].replace(0,np.median(df['price']))"
      ],
      "metadata": {
        "id": "dm6WmQK77rsx"
      },
      "execution_count": null,
      "outputs": []
    },
    {
      "cell_type": "code",
      "source": [
        "# Statistical Description of the Dataset\n",
        "\n",
        "df.describe()"
      ],
      "metadata": {
        "id": "MN6ApyQ87rod"
      },
      "execution_count": null,
      "outputs": []
    },
    {
      "cell_type": "markdown",
      "source": [
        "## Classifying the categorical and numerical data:\n",
        "\n",
        "*   **Categorical:**\n",
        "\n",
        " 1. host_id \n",
        " 2. neighbourhood_group\n",
        " 3. neighbourhood\n",
        " 4. room_type\n",
        "\n",
        "\n",
        "*   **Numerical:**\n",
        "\n",
        " 1. price\n",
        " 2. minimum_nights\n",
        " 3. number_of_reviews\n",
        " 4. reviews_per_month\n",
        " 5. availability_365\n"
      ],
      "metadata": {
        "id": "QLLx64dz8TaS"
      }
    },
    {
      "cell_type": "markdown",
      "source": [
        "# **Univariate Analysis:**\n",
        "**It involves the analysis of a single variable**"
      ],
      "metadata": {
        "id": "yL_C8KTb8Zpo"
      }
    },
    {
      "cell_type": "code",
      "source": [
        "# Creating a dataframe representing the top 10 host IDs who own maximum number of Airbnbs\n",
        "top_10_host_id = pd.DataFrame({'Host ID':df['host_id'].value_counts(ascending=False).index,\n",
        "                               'No of Airbnbs':df['host_id'].value_counts(ascending=False).values})[:10]\n",
        "\n",
        "# Defining the size of the plot\n",
        "fig,ax=plt.subplots(figsize=(15,8))\n",
        "\n",
        "# Plotting a bar graph\n",
        "figure = sns.barplot(x='Host ID', y='No of Airbnbs', data = top_10_host_id)\n",
        "\n",
        "# Defining the title of the graph\n",
        "figure.set(title='Host IDs that owns maximum number of Airbnbs')\n",
        "\n",
        "# Displaying the graph\n",
        "plt.show(figure)"
      ],
      "metadata": {
        "id": "gsoASWVK8SsF"
      },
      "execution_count": null,
      "outputs": []
    },
    {
      "cell_type": "markdown",
      "source": [
        "## **Distribution of the Airbnbs in the neighbourhood groups**"
      ],
      "metadata": {
        "id": "MYXUkwGK8iyj"
      }
    },
    {
      "cell_type": "code",
      "source": [
        "# Creating a dataframe representing the distribution of Airbnbs in the neighbourhood groups\n",
        "airbnb_count = pd.DataFrame({'Neighbourhood Groups':df['neighbourhood_group'].value_counts(ascending=False).index,\n",
        "                             'No of Airbnbs':df['neighbourhood_group'].value_counts(ascending=False).values})\n",
        "\n",
        "# Defining the size of the plot\n",
        "plt.figure(figsize=(10,5))\n",
        "\n",
        "# Plotting a bar graph\n",
        "figure = sns.barplot(x='Neighbourhood Groups', y='No of Airbnbs', data = airbnb_count)\n",
        "\n",
        "# Defining the title of the graph\n",
        "figure.set(title='Distribution of the Airbnbs in the neighbourhood groups')\n",
        "\n",
        "# Displaying the graph\n",
        "plt.show(figure)\n",
        "\n",
        "# Percentage distribution of the Airbnbs in the neighbourhood groups  \n",
        "print('\\n\\nPercentage distribution of Airbnbs in the neighbourhood groups:')\n",
        "df['neighbourhood_group'].value_counts(normalize=True)*100"
      ],
      "metadata": {
        "id": "pJs6xEZF8iiB"
      },
      "execution_count": null,
      "outputs": []
    },
    {
      "cell_type": "markdown",
      "source": [
        "## **Distribution of Airbnbs on the basis of room types**"
      ],
      "metadata": {
        "id": "SY6UfILI8rWY"
      }
    },
    {
      "cell_type": "code",
      "source": [
        "# Creating a dataframe representing the distribution of Airbnbs on the basis of room types\n",
        "room_type_count = pd.DataFrame({'Room Type':df['room_type'].value_counts(ascending=False).index,\n",
        "                                'No of Airbnbs':df['room_type'].value_counts(ascending=False).values})\n",
        "\n",
        "# Defining the size of the plot\n",
        "plt.figure(figsize=(10,5))\n",
        "\n",
        "# Plotting a bar graph\n",
        "figure = sns.barplot(x='Room Type', y='No of Airbnbs', data=room_type_count)\n",
        "\n",
        "# Defining the title of the graph\n",
        "figure.set(title='Distribution of Airbnbs on the basis of room types')\n",
        "\n",
        "# Displaying the graph\n",
        "plt.show(figure)\n",
        "\n",
        "# Percentage distribution of the Airbnbs in the neighbourhood groups  \n",
        "print('\\n\\nPercentage distribution of Airbnbs on the basis of room types:')\n",
        "df['room_type'].value_counts(normalize=True)*100"
      ],
      "metadata": {
        "id": "1SFtW_IP8svl"
      },
      "execution_count": null,
      "outputs": []
    },
    {
      "cell_type": "markdown",
      "source": [
        "## **Price distribution of the Airbnbs across the New York City**"
      ],
      "metadata": {
        "id": "Cg1nw4t683zI"
      }
    },
    {
      "cell_type": "code",
      "source": [
        "# Defining the size of the graph\n",
        "plt.figure(figsize=(15,5))\n",
        "\n",
        "# Defining the labels of the graph\n",
        "plt.xlabel(\"Price\")\n",
        "plt.ylabel(\"Number of Airbnbs\")\n",
        "\n",
        "# Plotting histogram of the price distribution\n",
        "figure = sns.histplot(x='price', data=df)\n",
        "\n",
        "# Defining the title of the graph\n",
        "figure.set(title='Price distribution of Airbnbs')\n",
        "\n",
        "# Displaying the graph\n",
        "plt.show(figure)"
      ],
      "metadata": {
        "id": "IuTTsM1g83dH"
      },
      "execution_count": null,
      "outputs": []
    },
    {
      "cell_type": "code",
      "source": [
        "# Statistical description of price column\n",
        "df['price'].describe()"
      ],
      "metadata": {
        "id": "Q167d_5k8szH"
      },
      "execution_count": null,
      "outputs": []
    },
    {
      "cell_type": "code",
      "source": [
        "# Creating a dataset where Airbnb price is equal to and below 200\n",
        "price_below_200 = df[df['price']<=200]\n",
        "\n",
        "# Defining the size of the graph\n",
        "plt.figure(figsize=(15,5))\n",
        "\n",
        "# Defining the labels of the graph\n",
        "plt.xlabel(\"Price\")\n",
        "plt.ylabel(\"Number of Airbnbs\")\n",
        "\n",
        "# Plotting histogram of the price distribution\n",
        "figure_1 = sns.histplot(x='price', data=price_below_200, kde=True, color='red')\n",
        "\n",
        "# Defining the title of the graph\n",
        "figure_1.set(title='Price distribution of Airbnbs having price below 200')\n",
        "\n",
        "# Displaying the graph\n",
        "plt.show(figure_1)"
      ],
      "metadata": {
        "id": "J1jRe_vm8s19"
      },
      "execution_count": null,
      "outputs": []
    },
    {
      "cell_type": "markdown",
      "source": [
        "## **Top 20 neighbourhoods having maximum number of Airbnbs**"
      ],
      "metadata": {
        "id": "tRugNgtX9G1Q"
      }
    },
    {
      "cell_type": "code",
      "source": [
        "# Creating a dataframe representing the top 20 neighbourhoods having maximum number of Airbnbs\n",
        "cities = pd.DataFrame({'Neighbourhood':df['neighbourhood'].value_counts().index,\n",
        "                       'No of Airbnb':df['neighbourhood'].value_counts().values})[:20]\n",
        "\n",
        "# Defining the size of the plot\n",
        "fig,ax=plt.subplots(figsize=(15,10))\n",
        "\n",
        "# Defining the label and title of the graph\n",
        "ax.set_xticklabels(labels=cities['Neighbourhood'],rotation=45)\n",
        "ax.set_title('Top 20 neighbourhoods having maximum number of Airbnbs.')\n",
        "\n",
        "# Plotting a bar graph\n",
        "figure = sns.barplot(x='Neighbourhood',y='No of Airbnb',data=cities)\n",
        "plt.show(figure)"
      ],
      "metadata": {
        "id": "B9hCecNP8s5T"
      },
      "execution_count": null,
      "outputs": []
    },
    {
      "cell_type": "code",
      "source": [
        ""
      ],
      "metadata": {
        "id": "xV0FV14d8s8F"
      },
      "execution_count": null,
      "outputs": []
    },
    {
      "cell_type": "code",
      "source": [
        ""
      ],
      "metadata": {
        "id": "Y2Urk8xd8s_H"
      },
      "execution_count": null,
      "outputs": []
    },
    {
      "cell_type": "code",
      "source": [
        ""
      ],
      "metadata": {
        "id": "ql6QMZRr8tCj"
      },
      "execution_count": null,
      "outputs": []
    }
  ]
}